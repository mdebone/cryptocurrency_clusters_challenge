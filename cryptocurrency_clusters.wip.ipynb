{
 "cells": [
  {
   "cell_type": "markdown",
   "id": "f0a92c09",
   "metadata": {},
   "source": [
    "## Data Preparation"
   ]
  },
  {
   "cell_type": "markdown",
   "id": "7c125d39",
   "metadata": {},
   "source": [
    "Read crypto_data.csv into Pandas"
   ]
  },
  {
   "cell_type": "code",
   "execution_count": null,
   "id": "dcf6cbfa",
   "metadata": {},
   "outputs": [],
   "source": []
  },
  {
   "cell_type": "markdown",
   "id": "b46e31cb",
   "metadata": {},
   "source": [
    "Discard all cryptocurrencies that are not being traded.\n",
    "\n",
    "In other words, filter for currencies that are currently being traded.\n",
    "\n",
    "Once you have done this, drop the IsTrading column from the dataframe"
   ]
  },
  {
   "cell_type": "code",
   "execution_count": null,
   "id": "85a919a0",
   "metadata": {},
   "outputs": [],
   "source": []
  },
  {
   "cell_type": "code",
   "execution_count": null,
   "id": "28e6986d",
   "metadata": {},
   "outputs": [],
   "source": []
  },
  {
   "cell_type": "markdown",
   "id": "a5abfc1a",
   "metadata": {},
   "source": [
    "Remove all rows that have at least one null value"
   ]
  },
  {
   "cell_type": "code",
   "execution_count": null,
   "id": "eab358ef",
   "metadata": {},
   "outputs": [],
   "source": []
  },
  {
   "cell_type": "code",
   "execution_count": null,
   "id": "7ab8e9bb",
   "metadata": {},
   "outputs": [],
   "source": []
  },
  {
   "cell_type": "markdown",
   "id": "322aa752",
   "metadata": {},
   "source": [
    "Filter for cryptocurrencies that have been mined. \n",
    "\n",
    "That is, the total coins mined should be greater than zero."
   ]
  },
  {
   "cell_type": "code",
   "execution_count": null,
   "id": "39145672",
   "metadata": {},
   "outputs": [],
   "source": []
  },
  {
   "cell_type": "code",
   "execution_count": null,
   "id": "4fb82fb4",
   "metadata": {},
   "outputs": [],
   "source": []
  },
  {
   "cell_type": "markdown",
   "id": "0deb1b89",
   "metadata": {},
   "source": [
    "In order for your dataset to be comprehensible to a machine learning algorithm, its data should be numeric. \n",
    "\n",
    "Since the coin names do not contribute to the analysis of the data, delete the CoinName from the original dataframe."
   ]
  },
  {
   "cell_type": "code",
   "execution_count": null,
   "id": "b47fbabd",
   "metadata": {},
   "outputs": [],
   "source": []
  },
  {
   "cell_type": "code",
   "execution_count": null,
   "id": "ad6577da",
   "metadata": {},
   "outputs": [],
   "source": []
  },
  {
   "cell_type": "markdown",
   "id": "7129a9cc",
   "metadata": {},
   "source": [
    "Your next step in data preparation is to convert the remaining features with text values, Algorithm and ProofType, into numerical data.\n",
    "\n",
    "To accomplish this task, use Pandas to create dummy variables. \n",
    "\n",
    "Examine the number of rows and columns of your dataset now. How did they change?"
   ]
  },
  {
   "cell_type": "code",
   "execution_count": null,
   "id": "160a0799",
   "metadata": {},
   "outputs": [],
   "source": []
  },
  {
   "cell_type": "code",
   "execution_count": null,
   "id": "df477fde",
   "metadata": {},
   "outputs": [],
   "source": []
  },
  {
   "cell_type": "markdown",
   "id": "aab6fd13",
   "metadata": {},
   "source": [
    "Standardize your dataset so that columns that contain larger values do not unduly influence the outcome."
   ]
  },
  {
   "cell_type": "code",
   "execution_count": null,
   "id": "3be5d335",
   "metadata": {},
   "outputs": [],
   "source": []
  },
  {
   "cell_type": "markdown",
   "id": "5c72182e",
   "metadata": {},
   "source": [
    "## Dimensionality Reduction"
   ]
  },
  {
   "cell_type": "markdown",
   "id": "22259a69",
   "metadata": {},
   "source": [
    "Creating dummy variables above dramatically increased the number of features in your dataset. \n",
    "\n",
    "Perform dimensionality reduction with PCA."
   ]
  },
  {
   "cell_type": "code",
   "execution_count": null,
   "id": "54f34f4f",
   "metadata": {},
   "outputs": [],
   "source": []
  },
  {
   "cell_type": "code",
   "execution_count": null,
   "id": "f5ff1d56",
   "metadata": {},
   "outputs": [],
   "source": []
  },
  {
   "cell_type": "markdown",
   "id": "7ea715f2",
   "metadata": {},
   "source": [
    "Rather than specify the number of principal components when you instantiate the PCA model, it is possible to state the desired explained variance. \n",
    "\n",
    "For example, say that a dataset has 100 features. Using PCA(n_components=0.99) creates a model that will preserve approximately 99% of the explained variance, whether that means reducing the dataset to 80 principal components or 3.\n",
    "    \n",
    "For this project, preserve 90% of the explained variance in dimensionality reduction. How did the number of the features change?"
   ]
  },
  {
   "cell_type": "code",
   "execution_count": null,
   "id": "fbebd8ce",
   "metadata": {},
   "outputs": [],
   "source": []
  },
  {
   "cell_type": "code",
   "execution_count": null,
   "id": "3031e186",
   "metadata": {},
   "outputs": [],
   "source": []
  },
  {
   "cell_type": "markdown",
   "id": "bfcf39a8",
   "metadata": {},
   "source": [
    "Next, further reduce the dataset dimensions with t-SNE and visually inspect the results.\n",
    "\n",
    "In order to accomplish this task, run t-SNE on the principal components: the output of the PCA transformation. \n"
   ]
  },
  {
   "cell_type": "code",
   "execution_count": null,
   "id": "c0eba866",
   "metadata": {},
   "outputs": [],
   "source": []
  },
  {
   "cell_type": "code",
   "execution_count": null,
   "id": "2d4feecd",
   "metadata": {},
   "outputs": [],
   "source": []
  },
  {
   "cell_type": "markdown",
   "id": "ae7d824a",
   "metadata": {},
   "source": [
    "Then create a scatter plot of the t-SNE output. Observe whether there are distinct clusters or not."
   ]
  },
  {
   "cell_type": "code",
   "execution_count": null,
   "id": "8730ad5e",
   "metadata": {},
   "outputs": [],
   "source": []
  },
  {
   "cell_type": "code",
   "execution_count": null,
   "id": "35aa1de4",
   "metadata": {},
   "outputs": [],
   "source": []
  },
  {
   "cell_type": "markdown",
   "id": "3010424d",
   "metadata": {},
   "source": [
    "## Cluster Analysis with k-Means"
   ]
  },
  {
   "cell_type": "markdown",
   "id": "90d2a156",
   "metadata": {},
   "source": [
    "Create an elbow plot to identify the best number of clusters. Use a for-loop to determine the inertia for each k between 1 through 10."
   ]
  },
  {
   "cell_type": "code",
   "execution_count": null,
   "id": "22289910",
   "metadata": {},
   "outputs": [],
   "source": []
  },
  {
   "cell_type": "code",
   "execution_count": null,
   "id": "22687dde",
   "metadata": {},
   "outputs": [],
   "source": []
  },
  {
   "cell_type": "markdown",
   "id": "bf6f1e38",
   "metadata": {},
   "source": [
    "Determine, if possible, where the elbow of the plot is, and at which value of k it appears."
   ]
  },
  {
   "cell_type": "code",
   "execution_count": null,
   "id": "f27e3dbb",
   "metadata": {},
   "outputs": [],
   "source": []
  },
  {
   "cell_type": "code",
   "execution_count": null,
   "id": "e0ca57fa",
   "metadata": {},
   "outputs": [],
   "source": []
  },
  {
   "cell_type": "markdown",
   "id": "f4ef616c",
   "metadata": {},
   "source": [
    "## Recommendation"
   ]
  },
  {
   "cell_type": "markdown",
   "id": "6047d6d5",
   "metadata": {},
   "source": [
    "Based on your findings, make a brief (1-2 sentences) recommendation to your clients. \n",
    "\n",
    "Can the cryptocurrencies be clustered together? \n",
    "\n",
    "If so, into how many clusters?"
   ]
  },
  {
   "cell_type": "code",
   "execution_count": null,
   "id": "4d95e2ac",
   "metadata": {},
   "outputs": [],
   "source": []
  },
  {
   "cell_type": "code",
   "execution_count": null,
   "id": "69bc6147",
   "metadata": {},
   "outputs": [],
   "source": []
  },
  {
   "cell_type": "code",
   "execution_count": null,
   "id": "e2c88d47",
   "metadata": {},
   "outputs": [],
   "source": []
  }
 ],
 "metadata": {
  "kernelspec": {
   "display_name": "Python 3",
   "language": "python",
   "name": "python3"
  },
  "language_info": {
   "codemirror_mode": {
    "name": "ipython",
    "version": 3
   },
   "file_extension": ".py",
   "mimetype": "text/x-python",
   "name": "python",
   "nbconvert_exporter": "python",
   "pygments_lexer": "ipython3",
   "version": "3.6.13"
  }
 },
 "nbformat": 4,
 "nbformat_minor": 5
}
